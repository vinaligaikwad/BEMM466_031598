{
 "cells": [
  {
   "cell_type": "markdown",
   "metadata": {},
   "source": [
    "# 🧠 Step 2: Feature Engineering – Behavioural Scores\n",
    "This notebook creates six behaviour features per customer using their transaction history."
   ]
  },
  {
   "cell_type": "code",
   "execution_count": 3,
   "metadata": {},
   "outputs": [],
   "source": [
    "import pandas as pd\n",
    "import numpy as np\n",
    "from sklearn.preprocessing import MinMaxScaler\n",
    "df = pd.read_csv('online_retail_cleaned.csv')\n",
    "df['InvoiceDate'] = pd.to_datetime(df['InvoiceDate'])\n",
    "df['Customer ID'] = df['Customer ID'].astype(int)"
   ]
  },
  {
   "cell_type": "code",
   "execution_count": 4,
   "metadata": {},
   "outputs": [],
   "source": [
    "# Compute behavioural features\n",
    "ref_date = df['InvoiceDate'].max()\n",
    "top_300 = df.groupby('StockCode')['Quantity'].sum().nlargest(300).index\n",
    "returns = df[df['Quantity'] < 0].groupby('Customer ID')['Quantity'].count()\n",
    "behaviour = df.groupby('Customer ID').agg({\n",
    "    'InvoiceDate': lambda x: (ref_date - x.max()).days,\n",
    "    'Invoice': 'nunique',\n",
    "    'TotalPrice': 'sum',\n",
    "    'StockCode': ['nunique', lambda x: (x.isin(top_300)).sum()]\n",
    "})\n",
    "behaviour.columns = ['Recency', 'Frequency', 'Monetary', 'ProductVariety', 'Top300Hits']\n",
    "behaviour['Returns'] = behaviour.index.map(returns).fillna(0)"
   ]
  },
  {
   "cell_type": "code",
   "execution_count": 5,
   "metadata": {},
   "outputs": [
    {
     "data": {
      "text/html": [
       "<div>\n",
       "<style scoped>\n",
       "    .dataframe tbody tr th:only-of-type {\n",
       "        vertical-align: middle;\n",
       "    }\n",
       "\n",
       "    .dataframe tbody tr th {\n",
       "        vertical-align: top;\n",
       "    }\n",
       "\n",
       "    .dataframe thead th {\n",
       "        text-align: right;\n",
       "    }\n",
       "</style>\n",
       "<table border=\"1\" class=\"dataframe\">\n",
       "  <thead>\n",
       "    <tr style=\"text-align: right;\">\n",
       "      <th></th>\n",
       "      <th>Customer ID</th>\n",
       "      <th>Recency</th>\n",
       "      <th>Frequency</th>\n",
       "      <th>Monetary</th>\n",
       "      <th>ProductVariety</th>\n",
       "      <th>Top300Hits</th>\n",
       "      <th>Returns</th>\n",
       "    </tr>\n",
       "  </thead>\n",
       "  <tbody>\n",
       "    <tr>\n",
       "      <th>0</th>\n",
       "      <td>12346</td>\n",
       "      <td>0.876099</td>\n",
       "      <td>0.353449</td>\n",
       "      <td>0.830763</td>\n",
       "      <td>0.369042</td>\n",
       "      <td>0.219905</td>\n",
       "      <td>0.0</td>\n",
       "    </tr>\n",
       "    <tr>\n",
       "      <th>1</th>\n",
       "      <td>12347</td>\n",
       "      <td>0.104938</td>\n",
       "      <td>0.284012</td>\n",
       "      <td>0.599042</td>\n",
       "      <td>0.580476</td>\n",
       "      <td>0.504534</td>\n",
       "      <td>0.0</td>\n",
       "    </tr>\n",
       "    <tr>\n",
       "      <th>2</th>\n",
       "      <td>12348</td>\n",
       "      <td>0.653640</td>\n",
       "      <td>0.207449</td>\n",
       "      <td>0.524200</td>\n",
       "      <td>0.358679</td>\n",
       "      <td>0.421458</td>\n",
       "      <td>0.0</td>\n",
       "    </tr>\n",
       "    <tr>\n",
       "      <th>3</th>\n",
       "      <td>12349</td>\n",
       "      <td>0.445769</td>\n",
       "      <td>0.173022</td>\n",
       "      <td>0.590176</td>\n",
       "      <td>0.593102</td>\n",
       "      <td>0.477649</td>\n",
       "      <td>0.0</td>\n",
       "    </tr>\n",
       "    <tr>\n",
       "      <th>4</th>\n",
       "      <td>12350</td>\n",
       "      <td>0.868480</td>\n",
       "      <td>0.000000</td>\n",
       "      <td>0.373283</td>\n",
       "      <td>0.307257</td>\n",
       "      <td>0.219905</td>\n",
       "      <td>0.0</td>\n",
       "    </tr>\n",
       "  </tbody>\n",
       "</table>\n",
       "</div>"
      ],
      "text/plain": [
       "   Customer ID   Recency  Frequency  Monetary  ProductVariety  Top300Hits  \\\n",
       "0        12346  0.876099   0.353449  0.830763        0.369042    0.219905   \n",
       "1        12347  0.104938   0.284012  0.599042        0.580476    0.504534   \n",
       "2        12348  0.653640   0.207449  0.524200        0.358679    0.421458   \n",
       "3        12349  0.445769   0.173022  0.590176        0.593102    0.477649   \n",
       "4        12350  0.868480   0.000000  0.373283        0.307257    0.219905   \n",
       "\n",
       "   Returns  \n",
       "0      0.0  \n",
       "1      0.0  \n",
       "2      0.0  \n",
       "3      0.0  \n",
       "4      0.0  "
      ]
     },
     "execution_count": 5,
     "metadata": {},
     "output_type": "execute_result"
    }
   ],
   "source": [
    "# Normalize features\n",
    "log_cols = ['Recency', 'Frequency', 'Monetary', 'ProductVariety', 'Top300Hits', 'Returns']\n",
    "behaviour_log = np.log1p(behaviour[log_cols])\n",
    "scaler = MinMaxScaler()\n",
    "behaviour_scaled = pd.DataFrame(scaler.fit_transform(behaviour_log), columns=log_cols, index=behaviour.index)\n",
    "behaviour_scaled.reset_index(inplace=True)\n",
    "behaviour_scaled.to_csv('customer_behaviour_scores.csv', index=False)\n",
    "behaviour_scaled.head()"
   ]
  }
 ],
 "metadata": {
  "kernelspec": {
   "display_name": "Python 3",
   "language": "python",
   "name": "python3"
  },
  "language_info": {
   "codemirror_mode": {
    "name": "ipython",
    "version": 3
   },
   "file_extension": ".py",
   "mimetype": "text/x-python",
   "name": "python",
   "nbconvert_exporter": "python",
   "pygments_lexer": "ipython3",
   "version": "3.10.17"
  }
 },
 "nbformat": 4,
 "nbformat_minor": 2
}
